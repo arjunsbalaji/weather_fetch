{
 "cells": [
  {
   "cell_type": "code",
   "execution_count": 151,
   "metadata": {},
   "outputs": [],
   "source": [
    "from weather_au import api, summary\n",
    "import sys, os\n",
    "from pathlib import Path\n",
    "import pandas as pd\n",
    "from weather import place, observations\n",
    "import time, requests, json, datetime"
   ]
  },
  {
   "cell_type": "code",
   "execution_count": 143,
   "metadata": {},
   "outputs": [],
   "source": [
    "scarb_url = 'http://www.bom.gov.au/fwo/IDW60901/IDW60901.94614.json'\n",
    "scarb_path = Path('./scarb/')"
   ]
  },
  {
   "cell_type": "code",
   "execution_count": 144,
   "metadata": {},
   "outputs": [],
   "source": [
    "perth_url = 'http://www.bom.gov.au/fwo/IDW60901/IDW60901.94608.json'\n",
    "perth_path = Path('./perth_metro/')"
   ]
  },
  {
   "cell_type": "code",
   "execution_count": 173,
   "metadata": {},
   "outputs": [],
   "source": [
    "fetched_req = requests.get(url=scarb_url)\n",
    "fetched_json = fetched_req.json();\n",
    "blob = pd.json_normalize(fetched_json['observations']['data'])"
   ]
  },
  {
   "cell_type": "code",
   "execution_count": 191,
   "metadata": {},
   "outputs": [
    {
     "data": {
      "text/html": [
       "<div>\n",
       "<style scoped>\n",
       "    .dataframe tbody tr th:only-of-type {\n",
       "        vertical-align: middle;\n",
       "    }\n",
       "\n",
       "    .dataframe tbody tr th {\n",
       "        vertical-align: top;\n",
       "    }\n",
       "\n",
       "    .dataframe thead th {\n",
       "        text-align: right;\n",
       "    }\n",
       "</style>\n",
       "<table border=\"1\" class=\"dataframe\">\n",
       "  <thead>\n",
       "    <tr style=\"text-align: right;\">\n",
       "      <th></th>\n",
       "      <th>sort_order</th>\n",
       "      <th>wmo</th>\n",
       "      <th>name</th>\n",
       "      <th>history_product</th>\n",
       "      <th>local_date_time</th>\n",
       "      <th>local_date_time_full</th>\n",
       "      <th>aifstime_utc</th>\n",
       "      <th>lat</th>\n",
       "      <th>lon</th>\n",
       "      <th>apparent_t</th>\n",
       "      <th>...</th>\n",
       "      <th>rel_hum</th>\n",
       "      <th>sea_state</th>\n",
       "      <th>swell_dir_worded</th>\n",
       "      <th>swell_height</th>\n",
       "      <th>swell_period</th>\n",
       "      <th>vis_km</th>\n",
       "      <th>weather</th>\n",
       "      <th>wind_dir</th>\n",
       "      <th>wind_spd_kmh</th>\n",
       "      <th>wind_spd_kt</th>\n",
       "    </tr>\n",
       "  </thead>\n",
       "  <tbody>\n",
       "    <tr>\n",
       "      <th>0</th>\n",
       "      <td>0</td>\n",
       "      <td>94614</td>\n",
       "      <td>Swanbourne</td>\n",
       "      <td>IDW60901</td>\n",
       "      <td>18/01:30pm</td>\n",
       "      <td>20201018133000</td>\n",
       "      <td>20201018053000</td>\n",
       "      <td>-32.0</td>\n",
       "      <td>115.8</td>\n",
       "      <td>22.3</td>\n",
       "      <td>...</td>\n",
       "      <td>61</td>\n",
       "      <td>-</td>\n",
       "      <td>-</td>\n",
       "      <td>None</td>\n",
       "      <td>None</td>\n",
       "      <td>-</td>\n",
       "      <td>-</td>\n",
       "      <td>SW</td>\n",
       "      <td>19</td>\n",
       "      <td>10</td>\n",
       "    </tr>\n",
       "    <tr>\n",
       "      <th>1</th>\n",
       "      <td>1</td>\n",
       "      <td>94614</td>\n",
       "      <td>Swanbourne</td>\n",
       "      <td>IDW60901</td>\n",
       "      <td>18/01:00pm</td>\n",
       "      <td>20201018130000</td>\n",
       "      <td>20201018050000</td>\n",
       "      <td>-32.0</td>\n",
       "      <td>115.8</td>\n",
       "      <td>25.0</td>\n",
       "      <td>...</td>\n",
       "      <td>31</td>\n",
       "      <td>-</td>\n",
       "      <td>-</td>\n",
       "      <td>None</td>\n",
       "      <td>None</td>\n",
       "      <td>-</td>\n",
       "      <td>-</td>\n",
       "      <td>SSE</td>\n",
       "      <td>17</td>\n",
       "      <td>9</td>\n",
       "    </tr>\n",
       "    <tr>\n",
       "      <th>2</th>\n",
       "      <td>2</td>\n",
       "      <td>94614</td>\n",
       "      <td>Swanbourne</td>\n",
       "      <td>IDW60901</td>\n",
       "      <td>18/12:30pm</td>\n",
       "      <td>20201018123000</td>\n",
       "      <td>20201018043000</td>\n",
       "      <td>-32.0</td>\n",
       "      <td>115.8</td>\n",
       "      <td>23.8</td>\n",
       "      <td>...</td>\n",
       "      <td>32</td>\n",
       "      <td>-</td>\n",
       "      <td>-</td>\n",
       "      <td>None</td>\n",
       "      <td>None</td>\n",
       "      <td>-</td>\n",
       "      <td>-</td>\n",
       "      <td>SSE</td>\n",
       "      <td>17</td>\n",
       "      <td>9</td>\n",
       "    </tr>\n",
       "    <tr>\n",
       "      <th>3</th>\n",
       "      <td>3</td>\n",
       "      <td>94614</td>\n",
       "      <td>Swanbourne</td>\n",
       "      <td>IDW60901</td>\n",
       "      <td>18/12:00pm</td>\n",
       "      <td>20201018120000</td>\n",
       "      <td>20201018040000</td>\n",
       "      <td>-32.0</td>\n",
       "      <td>115.8</td>\n",
       "      <td>22.5</td>\n",
       "      <td>...</td>\n",
       "      <td>33</td>\n",
       "      <td>-</td>\n",
       "      <td>-</td>\n",
       "      <td>None</td>\n",
       "      <td>None</td>\n",
       "      <td>-</td>\n",
       "      <td>-</td>\n",
       "      <td>SE</td>\n",
       "      <td>19</td>\n",
       "      <td>10</td>\n",
       "    </tr>\n",
       "    <tr>\n",
       "      <th>4</th>\n",
       "      <td>4</td>\n",
       "      <td>94614</td>\n",
       "      <td>Swanbourne</td>\n",
       "      <td>IDW60901</td>\n",
       "      <td>18/11:30am</td>\n",
       "      <td>20201018113000</td>\n",
       "      <td>20201018033000</td>\n",
       "      <td>-32.0</td>\n",
       "      <td>115.8</td>\n",
       "      <td>22.7</td>\n",
       "      <td>...</td>\n",
       "      <td>34</td>\n",
       "      <td>-</td>\n",
       "      <td>-</td>\n",
       "      <td>None</td>\n",
       "      <td>None</td>\n",
       "      <td>-</td>\n",
       "      <td>-</td>\n",
       "      <td>ESE</td>\n",
       "      <td>17</td>\n",
       "      <td>9</td>\n",
       "    </tr>\n",
       "    <tr>\n",
       "      <th>...</th>\n",
       "      <td>...</td>\n",
       "      <td>...</td>\n",
       "      <td>...</td>\n",
       "      <td>...</td>\n",
       "      <td>...</td>\n",
       "      <td>...</td>\n",
       "      <td>...</td>\n",
       "      <td>...</td>\n",
       "      <td>...</td>\n",
       "      <td>...</td>\n",
       "      <td>...</td>\n",
       "      <td>...</td>\n",
       "      <td>...</td>\n",
       "      <td>...</td>\n",
       "      <td>...</td>\n",
       "      <td>...</td>\n",
       "      <td>...</td>\n",
       "      <td>...</td>\n",
       "      <td>...</td>\n",
       "      <td>...</td>\n",
       "      <td>...</td>\n",
       "    </tr>\n",
       "    <tr>\n",
       "      <th>139</th>\n",
       "      <td>139</td>\n",
       "      <td>94614</td>\n",
       "      <td>Swanbourne</td>\n",
       "      <td>IDW60901</td>\n",
       "      <td>15/04:00pm</td>\n",
       "      <td>20201015160000</td>\n",
       "      <td>20201015080000</td>\n",
       "      <td>-32.0</td>\n",
       "      <td>115.8</td>\n",
       "      <td>13.9</td>\n",
       "      <td>...</td>\n",
       "      <td>71</td>\n",
       "      <td>-</td>\n",
       "      <td>-</td>\n",
       "      <td>None</td>\n",
       "      <td>None</td>\n",
       "      <td>-</td>\n",
       "      <td>-</td>\n",
       "      <td>SSW</td>\n",
       "      <td>26</td>\n",
       "      <td>14</td>\n",
       "    </tr>\n",
       "    <tr>\n",
       "      <th>140</th>\n",
       "      <td>140</td>\n",
       "      <td>94614</td>\n",
       "      <td>Swanbourne</td>\n",
       "      <td>IDW60901</td>\n",
       "      <td>15/03:30pm</td>\n",
       "      <td>20201015153000</td>\n",
       "      <td>20201015073000</td>\n",
       "      <td>-32.0</td>\n",
       "      <td>115.8</td>\n",
       "      <td>14.3</td>\n",
       "      <td>...</td>\n",
       "      <td>69</td>\n",
       "      <td>-</td>\n",
       "      <td>-</td>\n",
       "      <td>None</td>\n",
       "      <td>None</td>\n",
       "      <td>-</td>\n",
       "      <td>-</td>\n",
       "      <td>SSW</td>\n",
       "      <td>26</td>\n",
       "      <td>14</td>\n",
       "    </tr>\n",
       "    <tr>\n",
       "      <th>141</th>\n",
       "      <td>141</td>\n",
       "      <td>94614</td>\n",
       "      <td>Swanbourne</td>\n",
       "      <td>IDW60901</td>\n",
       "      <td>15/03:00pm</td>\n",
       "      <td>20201015150000</td>\n",
       "      <td>20201015070000</td>\n",
       "      <td>-32.0</td>\n",
       "      <td>115.8</td>\n",
       "      <td>14.3</td>\n",
       "      <td>...</td>\n",
       "      <td>68</td>\n",
       "      <td>-</td>\n",
       "      <td>-</td>\n",
       "      <td>None</td>\n",
       "      <td>None</td>\n",
       "      <td>-</td>\n",
       "      <td>-</td>\n",
       "      <td>SSW</td>\n",
       "      <td>26</td>\n",
       "      <td>14</td>\n",
       "    </tr>\n",
       "    <tr>\n",
       "      <th>142</th>\n",
       "      <td>142</td>\n",
       "      <td>94614</td>\n",
       "      <td>Swanbourne</td>\n",
       "      <td>IDW60901</td>\n",
       "      <td>15/02:30pm</td>\n",
       "      <td>20201015143000</td>\n",
       "      <td>20201015063000</td>\n",
       "      <td>-32.0</td>\n",
       "      <td>115.8</td>\n",
       "      <td>14.4</td>\n",
       "      <td>...</td>\n",
       "      <td>67</td>\n",
       "      <td>-</td>\n",
       "      <td>-</td>\n",
       "      <td>None</td>\n",
       "      <td>None</td>\n",
       "      <td>-</td>\n",
       "      <td>-</td>\n",
       "      <td>SW</td>\n",
       "      <td>26</td>\n",
       "      <td>14</td>\n",
       "    </tr>\n",
       "    <tr>\n",
       "      <th>143</th>\n",
       "      <td>143</td>\n",
       "      <td>94614</td>\n",
       "      <td>Swanbourne</td>\n",
       "      <td>IDW60901</td>\n",
       "      <td>15/02:00pm</td>\n",
       "      <td>20201015140000</td>\n",
       "      <td>20201015060000</td>\n",
       "      <td>-32.0</td>\n",
       "      <td>115.8</td>\n",
       "      <td>15.2</td>\n",
       "      <td>...</td>\n",
       "      <td>64</td>\n",
       "      <td>-</td>\n",
       "      <td>-</td>\n",
       "      <td>None</td>\n",
       "      <td>None</td>\n",
       "      <td>-</td>\n",
       "      <td>-</td>\n",
       "      <td>SW</td>\n",
       "      <td>24</td>\n",
       "      <td>13</td>\n",
       "    </tr>\n",
       "  </tbody>\n",
       "</table>\n",
       "<p>144 rows × 35 columns</p>\n",
       "</div>"
      ],
      "text/plain": [
       "     sort_order    wmo        name history_product local_date_time  \\\n",
       "0             0  94614  Swanbourne        IDW60901      18/01:30pm   \n",
       "1             1  94614  Swanbourne        IDW60901      18/01:00pm   \n",
       "2             2  94614  Swanbourne        IDW60901      18/12:30pm   \n",
       "3             3  94614  Swanbourne        IDW60901      18/12:00pm   \n",
       "4             4  94614  Swanbourne        IDW60901      18/11:30am   \n",
       "..          ...    ...         ...             ...             ...   \n",
       "139         139  94614  Swanbourne        IDW60901      15/04:00pm   \n",
       "140         140  94614  Swanbourne        IDW60901      15/03:30pm   \n",
       "141         141  94614  Swanbourne        IDW60901      15/03:00pm   \n",
       "142         142  94614  Swanbourne        IDW60901      15/02:30pm   \n",
       "143         143  94614  Swanbourne        IDW60901      15/02:00pm   \n",
       "\n",
       "    local_date_time_full    aifstime_utc   lat    lon  apparent_t  ...  \\\n",
       "0         20201018133000  20201018053000 -32.0  115.8        22.3  ...   \n",
       "1         20201018130000  20201018050000 -32.0  115.8        25.0  ...   \n",
       "2         20201018123000  20201018043000 -32.0  115.8        23.8  ...   \n",
       "3         20201018120000  20201018040000 -32.0  115.8        22.5  ...   \n",
       "4         20201018113000  20201018033000 -32.0  115.8        22.7  ...   \n",
       "..                   ...             ...   ...    ...         ...  ...   \n",
       "139       20201015160000  20201015080000 -32.0  115.8        13.9  ...   \n",
       "140       20201015153000  20201015073000 -32.0  115.8        14.3  ...   \n",
       "141       20201015150000  20201015070000 -32.0  115.8        14.3  ...   \n",
       "142       20201015143000  20201015063000 -32.0  115.8        14.4  ...   \n",
       "143       20201015140000  20201015060000 -32.0  115.8        15.2  ...   \n",
       "\n",
       "    rel_hum sea_state swell_dir_worded swell_height swell_period  vis_km  \\\n",
       "0        61         -                -         None         None       -   \n",
       "1        31         -                -         None         None       -   \n",
       "2        32         -                -         None         None       -   \n",
       "3        33         -                -         None         None       -   \n",
       "4        34         -                -         None         None       -   \n",
       "..      ...       ...              ...          ...          ...     ...   \n",
       "139      71         -                -         None         None       -   \n",
       "140      69         -                -         None         None       -   \n",
       "141      68         -                -         None         None       -   \n",
       "142      67         -                -         None         None       -   \n",
       "143      64         -                -         None         None       -   \n",
       "\n",
       "     weather  wind_dir  wind_spd_kmh  wind_spd_kt  \n",
       "0          -        SW            19           10  \n",
       "1          -       SSE            17            9  \n",
       "2          -       SSE            17            9  \n",
       "3          -        SE            19           10  \n",
       "4          -       ESE            17            9  \n",
       "..       ...       ...           ...          ...  \n",
       "139        -       SSW            26           14  \n",
       "140        -       SSW            26           14  \n",
       "141        -       SSW            26           14  \n",
       "142        -        SW            26           14  \n",
       "143        -        SW            24           13  \n",
       "\n",
       "[144 rows x 35 columns]"
      ]
     },
     "execution_count": 191,
     "metadata": {},
     "output_type": "execute_result"
    }
   ],
   "source": [
    "blob"
   ]
  },
  {
   "cell_type": "code",
   "execution_count": 190,
   "metadata": {},
   "outputs": [
    {
     "data": {
      "text/plain": [
       "22.3"
      ]
     },
     "execution_count": 190,
     "metadata": {},
     "output_type": "execute_result"
    }
   ],
   "source": [
    "blob['apparent_t'][0]"
   ]
  },
  {
   "cell_type": "code",
   "execution_count": 171,
   "metadata": {},
   "outputs": [],
   "source": [
    "def get_date_from_str(utc):\n",
    "    return datetime.date(year = int(utc[0:4]),\n",
    "                        month = int(utc[4:6]),\n",
    "                        day = int(utc[6:8]))"
   ]
  },
  {
   "cell_type": "code",
   "execution_count": 186,
   "metadata": {},
   "outputs": [
    {
     "ename": "KeyboardInterrupt",
     "evalue": "",
     "output_type": "error",
     "traceback": [
      "\u001b[0;31m---------------------------------------------------------------------------\u001b[0m",
      "\u001b[0;31mKeyboardInterrupt\u001b[0m                         Traceback (most recent call last)",
      "\u001b[0;32m<ipython-input-186-c4b90802cc5c>\u001b[0m in \u001b[0;36m<module>\u001b[0;34m\u001b[0m\n\u001b[1;32m     17\u001b[0m \u001b[0;34m\u001b[0m\u001b[0m\n\u001b[1;32m     18\u001b[0m \u001b[0;34m\u001b[0m\u001b[0m\n\u001b[0;32m---> 19\u001b[0;31m     \u001b[0mtime\u001b[0m\u001b[0;34m.\u001b[0m\u001b[0msleep\u001b[0m\u001b[0;34m(\u001b[0m\u001b[0;36m10\u001b[0m\u001b[0;34m)\u001b[0m\u001b[0;34m\u001b[0m\u001b[0;34m\u001b[0m\u001b[0m\n\u001b[0m",
      "\u001b[0;31mKeyboardInterrupt\u001b[0m: "
     ]
    }
   ],
   "source": [
    "while True:\n",
    "    scarb_req = requests.get(url=scarb_url)\n",
    "    scarb_json = scarb_req.json()\n",
    "    scarb_dataframe = pd.json_normalize(scarb_json['observations']['data'])\n",
    "    \n",
    "    current_date = get_date_from_str(scarb_dataframe['local_date_time_full'][0])\n",
    "    \n",
    "    \n",
    "    \n",
    "    perth_req = requests.get(url=perth_url)\n",
    "    perth_json = perth_req.json()\n",
    "    perth_dataframe = pd.json_normalize(perth_json['observations']['data'])\n",
    "    \n",
    "    #save\n",
    "    scarb_dataframe.to_csv(str(scarb_path/current_date.strftime(\"%m_%d_%Y\")))\n",
    "    perth_dataframe.to_csv(str(perth_path/current_date.strftime(\"%m_%d_%Y\")))\n",
    "\n",
    "    \n",
    "    time.sleep(10)"
   ]
  },
  {
   "cell_type": "code",
   "execution_count": 140,
   "metadata": {},
   "outputs": [
    {
     "data": {
      "text/plain": [
       "86400.0"
      ]
     },
     "execution_count": 140,
     "metadata": {},
     "output_type": "execute_result"
    }
   ],
   "source": [
    "259200/3"
   ]
  },
  {
   "cell_type": "code",
   "execution_count": null,
   "metadata": {},
   "outputs": [],
   "source": []
  },
  {
   "cell_type": "code",
   "execution_count": null,
   "metadata": {},
   "outputs": [],
   "source": []
  },
  {
   "cell_type": "code",
   "execution_count": null,
   "metadata": {},
   "outputs": [],
   "source": []
  },
  {
   "cell_type": "code",
   "execution_count": null,
   "metadata": {},
   "outputs": [],
   "source": [
    "data = json.loads(response.read())"
   ]
  },
  {
   "cell_type": "code",
   "execution_count": null,
   "metadata": {},
   "outputs": [],
   "source": [
    "print(data)"
   ]
  },
  {
   "cell_type": "code",
   "execution_count": 110,
   "metadata": {},
   "outputs": [],
   "source": [
    "w = api.WeatherApi(search='perth+wa', debug=0)"
   ]
  },
  {
   "cell_type": "code",
   "execution_count": null,
   "metadata": {},
   "outputs": [],
   "source": [
    "api.WeatherApi()"
   ]
  },
  {
   "cell_type": "code",
   "execution_count": 111,
   "metadata": {},
   "outputs": [],
   "source": [
    "loc = w.location()"
   ]
  },
  {
   "cell_type": "code",
   "execution_count": 112,
   "metadata": {},
   "outputs": [
    {
     "data": {
      "text/plain": [
       "{'temp': 29.2,\n",
       " 'temp_feels_like': 26.6,\n",
       " 'wind': {'speed_kilometre': 13, 'speed_knot': 7, 'direction': 'SE'},\n",
       " 'gust': {'speed_kilometre': 20, 'speed_knot': 11},\n",
       " 'rain_since_9am': 0,\n",
       " 'humidity': 29,\n",
       " 'station': {'bom_id': '009225', 'name': 'Perth', 'distance': 3854}}"
      ]
     },
     "execution_count": 112,
     "metadata": {},
     "output_type": "execute_result"
    }
   ],
   "source": [
    "w.observations()"
   ]
  },
  {
   "cell_type": "code",
   "execution_count": null,
   "metadata": {},
   "outputs": [],
   "source": [
    "w.search()"
   ]
  },
  {
   "cell_type": "code",
   "execution_count": 102,
   "metadata": {},
   "outputs": [],
   "source": [
    "place_data = place.Place(state='wa', location='swanbourne')"
   ]
  },
  {
   "cell_type": "code",
   "execution_count": 103,
   "metadata": {},
   "outputs": [
    {
     "name": "stdout",
     "output_type": "stream",
     "text": [
      "http://www.bom.gov.au/places/wa/swanbourne\n"
     ]
    }
   ],
   "source": [
    "print(place_data.url)"
   ]
  },
  {
   "cell_type": "code",
   "execution_count": 87,
   "metadata": {},
   "outputs": [],
   "source": [
    "w_summ = summary.Summary(search='perth+wa')"
   ]
  },
  {
   "cell_type": "code",
   "execution_count": 86,
   "metadata": {},
   "outputs": [],
   "source": [
    "w_summ.observations"
   ]
  },
  {
   "cell_type": "code",
   "execution_count": 109,
   "metadata": {},
   "outputs": [],
   "source": [
    "time.sleep(5)"
   ]
  },
  {
   "cell_type": "code",
   "execution_count": null,
   "metadata": {},
   "outputs": [],
   "source": []
  }
 ],
 "metadata": {
  "kernelspec": {
   "display_name": "Python 3",
   "language": "python",
   "name": "python3"
  },
  "language_info": {
   "codemirror_mode": {
    "name": "ipython",
    "version": 3
   },
   "file_extension": ".py",
   "mimetype": "text/x-python",
   "name": "python",
   "nbconvert_exporter": "python",
   "pygments_lexer": "ipython3",
   "version": "3.8.3"
  }
 },
 "nbformat": 4,
 "nbformat_minor": 4
}
