{
 "cells": [
  {
   "cell_type": "code",
   "execution_count": 1,
   "metadata": {},
   "outputs": [],
   "source": [
    "from weather_au import api, summary\n",
    "import sys, os\n",
    "from pathlib import Path\n",
    "import pandas as pd\n",
    "from weather import place, observations\n",
    "import time, requests, json, datetime"
   ]
  },
  {
   "cell_type": "code",
   "execution_count": 2,
   "metadata": {},
   "outputs": [],
   "source": [
    "scarb_url = 'http://www.bom.gov.au/fwo/IDW60901/IDW60901.94614.json'\n",
    "scarb_path = Path('./scarb/')"
   ]
  },
  {
   "cell_type": "code",
   "execution_count": 3,
   "metadata": {},
   "outputs": [],
   "source": [
    "perth_url = 'http://www.bom.gov.au/fwo/IDW60901/IDW60901.94608.json'\n",
    "perth_path = Path('./perth_metro/')"
   ]
  },
  {
   "cell_type": "code",
   "execution_count": 4,
   "metadata": {},
   "outputs": [],
   "source": [
    "fetched_req = requests.get(url=scarb_url)\n",
    "fetched_json = fetched_req.json();\n",
    "blob = pd.json_normalize(fetched_json['observations']['data'])"
   ]
  },
  {
   "cell_type": "code",
   "execution_count": 5,
   "metadata": {},
   "outputs": [],
   "source": [
    "def get_date_from_str(utc):\n",
    "    return datetime.date(year = int(utc[0:4]),\n",
    "                        month = int(utc[4:6]),\n",
    "                        day = int(utc[6:8]))"
   ]
  },
  {
   "cell_type": "code",
   "execution_count": 6,
   "metadata": {},
   "outputs": [
    {
     "name": "stdout",
     "output_type": "stream",
     "text": [
      "Scarborough Weather:22.3\n",
      "Perth Weather:27.1\n"
     ]
    },
    {
     "ename": "KeyboardInterrupt",
     "evalue": "",
     "output_type": "error",
     "traceback": [
      "\u001b[0;31m---------------------------------------------------------------------------\u001b[0m",
      "\u001b[0;31mKeyboardInterrupt\u001b[0m                         Traceback (most recent call last)",
      "\u001b[0;32m<ipython-input-6-533f3b70a65e>\u001b[0m in \u001b[0;36m<module>\u001b[0;34m\u001b[0m\n\u001b[1;32m     18\u001b[0m     \u001b[0mprint\u001b[0m\u001b[0;34m(\u001b[0m\u001b[0;34m'Scarborough Weather:'\u001b[0m \u001b[0;34m+\u001b[0m \u001b[0mstr\u001b[0m\u001b[0;34m(\u001b[0m\u001b[0mscarb_dataframe\u001b[0m\u001b[0;34m[\u001b[0m\u001b[0;34m'apparent_t'\u001b[0m\u001b[0;34m]\u001b[0m\u001b[0;34m[\u001b[0m\u001b[0;36m0\u001b[0m\u001b[0;34m]\u001b[0m\u001b[0;34m)\u001b[0m\u001b[0;34m)\u001b[0m\u001b[0;34m\u001b[0m\u001b[0;34m\u001b[0m\u001b[0m\n\u001b[1;32m     19\u001b[0m     \u001b[0mprint\u001b[0m\u001b[0;34m(\u001b[0m\u001b[0;34m'Perth Weather:'\u001b[0m \u001b[0;34m+\u001b[0m \u001b[0mstr\u001b[0m\u001b[0;34m(\u001b[0m\u001b[0mperth_dataframe\u001b[0m\u001b[0;34m[\u001b[0m\u001b[0;34m'apparent_t'\u001b[0m\u001b[0;34m]\u001b[0m\u001b[0;34m[\u001b[0m\u001b[0;36m0\u001b[0m\u001b[0;34m]\u001b[0m\u001b[0;34m)\u001b[0m\u001b[0;34m)\u001b[0m\u001b[0;34m\u001b[0m\u001b[0;34m\u001b[0m\u001b[0m\n\u001b[0;32m---> 20\u001b[0;31m     \u001b[0mtime\u001b[0m\u001b[0;34m.\u001b[0m\u001b[0msleep\u001b[0m\u001b[0;34m(\u001b[0m\u001b[0;36m10\u001b[0m\u001b[0;34m)\u001b[0m\u001b[0;34m\u001b[0m\u001b[0;34m\u001b[0m\u001b[0m\n\u001b[0m",
      "\u001b[0;31mKeyboardInterrupt\u001b[0m: "
     ]
    }
   ],
   "source": [
    "while True:\n",
    "    scarb_req = requests.get(url=scarb_url)\n",
    "    scarb_json = scarb_req.json()\n",
    "    scarb_dataframe = pd.json_normalize(scarb_json['observations']['data'])\n",
    "    \n",
    "    current_date = get_date_from_str(scarb_dataframe['local_date_time_full'][0])\n",
    "    \n",
    "    \n",
    "    \n",
    "    perth_req = requests.get(url=perth_url)\n",
    "    perth_json = perth_req.json()\n",
    "    perth_dataframe = pd.json_normalize(perth_json['observations']['data'])\n",
    "    \n",
    "    #save\n",
    "    scarb_dataframe.to_csv(str(scarb_path/current_date.strftime(\"%m_%d_%Y\")))\n",
    "    perth_dataframe.to_csv(str(perth_path/current_date.strftime(\"%m_%d_%Y\")))\n",
    "\n",
    "    print('Scarborough Weather:' + str(scarb_dataframe['apparent_t'][0]))\n",
    "    print('Perth Weather:' + str(perth_dataframe['apparent_t'][0]))\n",
    "    time.sleep(10)"
   ]
  },
  {
   "cell_type": "code",
   "execution_count": null,
   "metadata": {},
   "outputs": [],
   "source": []
  }
 ],
 "metadata": {
  "kernelspec": {
   "display_name": "Python 3",
   "language": "python",
   "name": "python3"
  },
  "language_info": {
   "codemirror_mode": {
    "name": "ipython",
    "version": 3
   },
   "file_extension": ".py",
   "mimetype": "text/x-python",
   "name": "python",
   "nbconvert_exporter": "python",
   "pygments_lexer": "ipython3",
   "version": "3.8.3"
  }
 },
 "nbformat": 4,
 "nbformat_minor": 4
}
